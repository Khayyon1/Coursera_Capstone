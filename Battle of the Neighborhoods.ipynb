{
    "cells": [
        {
            "cell_type": "markdown",
            "metadata": {
                "collapsed": true
            },
            "source": "# Clearly define a problem/idea of your choice, where we need to leverage geolocation data?\n---\nHaving come from Newark NJ, I was use to having about 20 - 30 restaurants within earshot. I was a bit surprised that this was not the case in Colorado Springs. So, in order to help others avoid being in a similar situation, I want to develop an application that compares the venue density of two different locations provided by the user in order to determine the similarity of the locations in terms of the amount of restaurants nearby the user.So they can determine where to go travel to with this in mind"
        },
        {
            "cell_type": "code",
            "execution_count": null,
            "metadata": {},
            "outputs": [],
            "source": ""
        }
    ],
    "metadata": {
        "kernelspec": {
            "display_name": "Python 3.7",
            "language": "python",
            "name": "python3"
        },
        "language_info": {
            "codemirror_mode": {
                "name": "ipython",
                "version": 3
            },
            "file_extension": ".py",
            "mimetype": "text/x-python",
            "name": "python",
            "nbconvert_exporter": "python",
            "pygments_lexer": "ipython3",
            "version": "3.7.10"
        }
    },
    "nbformat": 4,
    "nbformat_minor": 1
}